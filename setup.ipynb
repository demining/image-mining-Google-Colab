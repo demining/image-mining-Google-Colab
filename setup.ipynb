{
 "cells": [
  {
   "cell_type": "code",
   "execution_count": null,
   "id": "65c01186",
   "metadata": {},
   "outputs": [],
   "source": [
    "from setuptools import setup\n",
    "\n",
    "setup(name='image-mining',\n",
    "      version='0.1.6',\n",
    "      author='Chris Adams',\n",
    "      author_email='chris@improbable.org',\n",
    "      packages=['image_mining'],\n",
    "      scripts=['bin/extract-figures.py', 'bin/locate-thumbnail.py'],\n",
    "      url='https://github.com/demining/image-mining-Google-Colab/',\n",
    "      license='LICENSE.txt',\n",
    "      description='Extract useful information from scanned images using OpenCV',\n",
    "      long_description=open('README.rst').read(),\n",
    "      install_requires=['numpy'])"
   ]
  }
 ],
 "metadata": {},
 "nbformat": 4,
 "nbformat_minor": 5
}
